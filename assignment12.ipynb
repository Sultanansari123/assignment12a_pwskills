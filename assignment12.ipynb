{
 "cells": [
  {
   "cell_type": "markdown",
   "id": "5f093cf9-adc0-4992-9983-fcc849484790",
   "metadata": {},
   "source": [
    "# Ans1-"
   ]
  },
  {
   "cell_type": "markdown",
   "id": "6d0a136f-9da8-455f-8428-c27ee024abb4",
   "metadata": {},
   "source": [
    "Bagging reduces overfitting in decision trees by training multiple trees on different bootstrap samples of the data and then averaging their predictions, leading to a more robust and generalized model.\n",
    "\n",
    "\n",
    "\n",
    "\n",
    "\n"
   ]
  },
  {
   "cell_type": "markdown",
   "id": "e5cf78fd-2592-4986-acd3-5db4a200f34c",
   "metadata": {},
   "source": [
    "# Ans2-"
   ]
  },
  {
   "cell_type": "markdown",
   "id": "c0ae2fd4-94f5-44ac-bb39-a26f14ae5cef",
   "metadata": {},
   "source": [
    "dvantages:\n",
    "\n",
    "Diversity: Different base learners enhance diversity, improving overall model performance.\n",
    "\n",
    "Robustness: Varied base learners reduce sensitivity to individual model weaknesses.\n",
    "\n",
    "Disadvantages:\n",
    "\n",
    "Complexity: Extremely diverse base learners may increase computational complexity.\n",
    "\n",
    "Limited Improvement: If base learners are too similar, bagging may not provide significant performance gains"
   ]
  },
  {
   "cell_type": "markdown",
   "id": "8cabad4e-8acf-4c40-99cd-1c33923d8914",
   "metadata": {},
   "source": [
    "# Ans3-"
   ]
  },
  {
   "cell_type": "markdown",
   "id": "56889904-d249-44c8-82ae-016963f61a95",
   "metadata": {},
   "source": [
    "es, bagging can be used for both classification and regression tasks.\n",
    "\n",
    "Classification: In bagging for classification, the final prediction is often the majority vote of the base learners.\n",
    "\n",
    "Regression: In bagging for regression, the final prediction is typically the average of the base learners' predictions."
   ]
  },
  {
   "cell_type": "markdown",
   "id": "bce9b4ee-c7e3-4c40-aac9-76715ecc7b0a",
   "metadata": {},
   "source": [
    "# Ans4-"
   ]
  },
  {
   "cell_type": "markdown",
   "id": "03cfc8ac-40ba-42cb-a286-b381e6691c09",
   "metadata": {},
   "source": [
    "The ensemble size in bagging affects diversity and computational cost; typically, a larger ensemble (e.g., 50-500 models) increases stability and performance up to a certain point, after which additional models may yield diminishing returns"
   ]
  },
  {
   "cell_type": "markdown",
   "id": "c68412b4-8186-4929-9452-d97b7a87e37b",
   "metadata": {},
   "source": [
    "# Ans5-"
   ]
  },
  {
   "cell_type": "markdown",
   "id": "879d8174-8d89-400e-b059-f26ce3c98f9e",
   "metadata": {},
   "source": [
    "In credit scoring, bagging is used to improve the accuracy of predicting creditworthiness by aggregating predictions from multiple models, enhancing robustness and reliability."
   ]
  },
  {
   "cell_type": "code",
   "execution_count": null,
   "id": "e2bd73d5-4efc-45de-ba52-7ecf7797d26a",
   "metadata": {},
   "outputs": [],
   "source": []
  }
 ],
 "metadata": {
  "kernelspec": {
   "display_name": "Python 3 (ipykernel)",
   "language": "python",
   "name": "python3"
  },
  "language_info": {
   "codemirror_mode": {
    "name": "ipython",
    "version": 3
   },
   "file_extension": ".py",
   "mimetype": "text/x-python",
   "name": "python",
   "nbconvert_exporter": "python",
   "pygments_lexer": "ipython3",
   "version": "3.10.8"
  }
 },
 "nbformat": 4,
 "nbformat_minor": 5
}
